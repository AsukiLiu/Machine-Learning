{
 "cells": [
  {
   "cell_type": "code",
   "execution_count": 49,
   "metadata": {},
   "outputs": [],
   "source": [
    "import numpy as np\n",
    "import matplotlib\n",
    "import matplotlib.pyplot as plt\n",
    "\n",
    "from sklearn.datasets import make_classification\n",
    "from sklearn.model_selection import train_test_split\n",
    "\n",
    "from sklearn.linear_model import LogisticRegression\n",
    "from sklearn.svm import LinearSVC\n",
    "from sklearn.svm import SVC\n",
    "from sklearn.tree import DecisionTreeClassifier\n",
    "from sklearn.ensemble import RandomForestClassifier\n",
    "from sklearn.neighbors import KNeighborsClassifier\n",
    "%matplotlib inline"
   ]
  },
  {
   "cell_type": "code",
   "execution_count": 4,
   "metadata": {},
   "outputs": [],
   "source": [
    "X, y = make_classification(n_samples=1000, n_features=2, n_redundant=0, random_state=0)\n",
    "\n",
    "train_X, test_X, train_y, test_y = train_test_split(X, y, test_size=0.2, random_state=42)\n",
    "\n",
    "model_list = {\n",
    "    'LR' : LogisticRegression(),\n",
    "    'LSVC' : LinearSVC(),\n",
    "    'SVC0' : SVC(),\n",
    "    'SVC1' : SVC(kernel='linear', random_state=42),\n",
    "    'SVC2' : SVC(kernel='rbf', random_state=42),\n",
    "    'SVC3' : SVC(kernel='poly', random_state=42),\n",
    "    'SVC4' : SVC(kernel='sigmoid', random_state=42),\n",
    "    'DTC' : DecisionTreeClassifier(),\n",
    "    'RFC' : RandomForestClassifier(),\n",
    "    'KNN' : KNeighborsClassifier()\n",
    "}\n",
    "\n",
    "def show_func(model) :\n",
    "    plt.scatter(X[:, 0], X[:, 1], c=y, marker=\".\", cmap=matplotlib.cm.get_cmap(name=\"bwr\"), alpha=0.7)\n",
    "\n",
    "    Xi = np.linspace(-10, 10)\n",
    "    Y = -model.coef_[0][0] / model.coef_[0][1] * Xi - model.intercept_ / model.coef_[0][1]\n",
    "    plt.plot(Xi, Y)\n",
    "\n",
    "    plt.xlim(min(X[:, 0]) - 0.5, max(X[:, 0]) + 0.5)\n",
    "    plt.ylim(min(X[:, 1]) - 0.5, max(X[:, 1]) + 0.5)\n",
    "    plt.axes().set_aspect(\"equal\", \"datalim\")\n",
    "    plt.title(\"Classification Data\")\n",
    "    plt.xlabel(\"x-axis\")\n",
    "    plt.ylabel(\"y-axis\")\n",
    "    plt.show()\n"
   ]
  },
  {
   "cell_type": "code",
   "execution_count": 5,
   "metadata": {},
   "outputs": [
    {
     "name": "stdout",
     "output_type": "stream",
     "text": [
      "LR\n",
      "Rlt: 0.96\n",
      "LSVC\n",
      "Rlt: 0.955\n",
      "SVC0\n",
      "Rlt: 0.97\n",
      "SVC1\n",
      "Rlt: 0.96\n",
      "SVC2\n",
      "Rlt: 0.97\n",
      "SVC3\n",
      "Rlt: 0.965\n",
      "SVC4\n",
      "Rlt: 0.925\n",
      "DTC\n",
      "Rlt: 0.95\n",
      "RFC\n",
      "Rlt: 0.97\n",
      "KNN\n",
      "Rlt: 0.965\n"
     ]
    }
   ],
   "source": [
    "for model_name, model in model_list.items():\n",
    "    model.fit(train_X, train_y)\n",
    "    print(model_name)\n",
    "    print('Rlt: ' + str(model.score(test_X, test_y)))\n",
    "#     show_func(model)\n"
   ]
  },
  {
   "cell_type": "code",
   "execution_count": null,
   "metadata": {},
   "outputs": [],
   "source": [
    "\n",
    "\n"
   ]
  }
 ],
 "metadata": {
  "kernelspec": {
   "display_name": "Python 3",
   "language": "python",
   "name": "python3"
  },
  "language_info": {
   "codemirror_mode": {
    "name": "ipython",
    "version": 3
   },
   "file_extension": ".py",
   "mimetype": "text/x-python",
   "name": "python",
   "nbconvert_exporter": "python",
   "pygments_lexer": "ipython3",
   "version": "3.6.3"
  }
 },
 "nbformat": 4,
 "nbformat_minor": 2
}
