{
 "cells": [
  {
   "cell_type": "code",
   "execution_count": 6,
   "metadata": {},
   "outputs": [],
   "source": [
    "import scipy.stats\n",
    "from sklearn.datasets import load_digits\n",
    "\n",
    "from sklearn.linear_model import LogisticRegression\n",
    "from sklearn.svm import LinearSVC\n",
    "from sklearn.svm import SVC\n",
    "from sklearn.tree import DecisionTreeClassifier\n",
    "from sklearn.ensemble import RandomForestClassifier\n",
    "from sklearn.neighbors import KNeighborsClassifier\n",
    "\n",
    "from sklearn.model_selection import GridSearchCV\n",
    "from sklearn.model_selection import RandomizedSearchCV\n",
    "\n",
    "from sklearn.model_selection import train_test_split\n",
    "from sklearn.metrics import f1_score"
   ]
  },
  {
   "cell_type": "code",
   "execution_count": 7,
   "metadata": {},
   "outputs": [],
   "source": [
    "data = load_digits()\n",
    "train_X, test_X, train_y, test_y = train_test_split(data.data, data.target, test_size=0.2, random_state=42)"
   ]
  },
  {
   "cell_type": "code",
   "execution_count": 8,
   "metadata": {},
   "outputs": [],
   "source": [
    "model_param_set_grid = {\n",
    "    LogisticRegression(): {\n",
    "       \"C\": [10 ** i for i in range(-5, 5)],\n",
    "        \"random_state\": [42]\n",
    "    },\n",
    "    LinearSVC(): {\n",
    "       \"C\": [10 ** i for i in range(-5, 5)],\n",
    "        \"multi_class\": [\"ovr\", \"crammer_singer\"],\n",
    "        \"random_state\": [42]\n",
    "    },\n",
    "    SVC(): {\n",
    "        \"kernel\" : [\"linear\", \"poly\", \"rbf\", \"sigmoid\"],\n",
    "       \"C\": [10 ** i for i in range(-5, 5)],\n",
    "        \"decision_function_shape\" : [\"ovr\", \"ovo\"],\n",
    "        \"random_state\": [42]\n",
    "    },\n",
    "    DecisionTreeClassifier(): {\n",
    "       \"max_depth\": [i for i in range(1, 20)]\n",
    "    },\n",
    "    RandomForestClassifier(): {\n",
    "       \"n_estimators\": [i for i in range(10, 20)],\n",
    "        \"max_depth\": [i for i in range(1, 10)]\n",
    "    },\n",
    "    KNeighborsClassifier(): {\n",
    "       \"n_neighbors\": [i for i in range(1, 10)]\n",
    "    }\n",
    "}"
   ]
  },
  {
   "cell_type": "code",
   "execution_count": 9,
   "metadata": {},
   "outputs": [],
   "source": [
    "model_param_set_random = {\n",
    "    LogisticRegression(): {\n",
    "       \"C\": scipy.stats.uniform(0.00001, 1000),\n",
    "        \"random_state\": scipy.stats.randint(0, 100)\n",
    "    },\n",
    "    LinearSVC(): {\n",
    "       \"C\": scipy.stats.uniform(0.00001, 1000),\n",
    "        \"multi_class\": [\"ovr\", \"crammer_singer\"],\n",
    "        \"random_state\": scipy.stats.randint(0, 100)\n",
    "    },\n",
    "    SVC(): {\n",
    "        \"kernel\" : [\"linear\", \"poly\", \"rbf\", \"sigmoid\"],\n",
    "       \"C\": scipy.stats.uniform(0.00001, 1000),\n",
    "        \"decision_function_shape\" : [\"ovr\", \"ovo\"],\n",
    "        \"random_state\": scipy.stats.randint(0, 100)\n",
    "    },\n",
    "    DecisionTreeClassifier(): {\n",
    "       \"max_depth\": scipy.stats.randint(1, 20)\n",
    "    },\n",
    "    RandomForestClassifier(): {\n",
    "       \"n_estimators\": scipy.stats.randint(10, 100),\n",
    "        \"max_depth\": scipy.stats.randint(1, 20)\n",
    "    },\n",
    "    KNeighborsClassifier(): {\n",
    "       \"n_neighbors\": scipy.stats.randint(1, 20)\n",
    "    }\n",
    "}"
   ]
  },
  {
   "cell_type": "code",
   "execution_count": 10,
   "metadata": {},
   "outputs": [
    {
     "name": "stdout",
     "output_type": "stream",
     "text": [
      "Model: SVC, ¥n Param: {'C': 1e-05, 'decision_function_shape': 'ovr', 'kernel': 'poly', 'random_state': 42}\n",
      "0.9888888888888889\n"
     ]
    }
   ],
   "source": [
    "max_score = 0\n",
    "best_model = None\n",
    "best_param = None\n",
    "\n",
    "for model, param in model_param_set_grid.items():\n",
    "    clf = GridSearchCV(model, param)\n",
    "    clf.fit(train_X, train_y)\n",
    "    pred_y = clf.predict(test_X)\n",
    "    score = f1_score(test_y, pred_y, average=\"micro\")\n",
    "    if max_score < score:\n",
    "        max_score = score\n",
    "        best_model = model.__class__.__name__\n",
    "        best_param = clf.best_params_\n",
    "        \n",
    "for model, param in model_param_set_random.items():\n",
    "    clf = RandomizedSearchCV(model, param)\n",
    "    clf.fit(train_X, train_y)\n",
    "    pred_y = clf.predict(test_X)\n",
    "    score = f1_score(test_y, pred_y, average=\"micro\")\n",
    "    if max_score < score:\n",
    "        max_score = score\n",
    "        best_model = model.__class__.__name__\n",
    "        best_param = clf.best_params_\n",
    "        \n",
    "\n",
    "print(\"Model: {}, ¥n Param: {}\".format(best_model, best_param))\n",
    "print(max_score)"
   ]
  },
  {
   "cell_type": "code",
   "execution_count": null,
   "metadata": {},
   "outputs": [],
   "source": []
  }
 ],
 "metadata": {
  "kernelspec": {
   "display_name": "Python 3",
   "language": "python",
   "name": "python3"
  },
  "language_info": {
   "codemirror_mode": {
    "name": "ipython",
    "version": 3
   },
   "file_extension": ".py",
   "mimetype": "text/x-python",
   "name": "python",
   "nbconvert_exporter": "python",
   "pygments_lexer": "ipython3",
   "version": "3.6.3"
  }
 },
 "nbformat": 4,
 "nbformat_minor": 2
}
